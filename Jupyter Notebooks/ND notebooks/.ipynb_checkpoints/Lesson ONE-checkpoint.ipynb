{
 "cells": [
  {
   "cell_type": "code",
   "execution_count": 4,
   "metadata": {
    "collapsed": false
   },
   "outputs": [
    {
     "data": {
      "text/plain": [
       "{u'account_key': u'448',\n",
       " u'cancel_date': u'2015-01-14',\n",
       " u'days_to_cancel': u'65',\n",
       " u'is_canceled': u'True',\n",
       " u'is_udacity': u'True',\n",
       " u'join_date': u'2014-11-10',\n",
       " u'status': u'canceled'}"
      ]
     },
     "execution_count": 4,
     "metadata": {},
     "output_type": "execute_result"
    }
   ],
   "source": [
    "#WHEN GETTING FILE DOESN'T EXIST ERRORS, DOWNLOAD FILES FROM THE LESSON\n",
    "#MATERIALS IN THE LESSON HEADER \"RESOURCES\"\n",
    "\n",
    "\n",
    "import unicodecsv\n",
    "\n",
    "enrollments = []\n",
    "f = open('enrollments.csv','rb') #rb signifies file opened for reading and b is for reading method\n",
    "reader = unicodecsv.DictReader(f) #use dictionary reader on file f\n",
    "\n",
    "for row in reader:\n",
    "    enrollments.append(row)\n",
    "\n",
    "#reader is an iterator if I add a second for loop,\n",
    "#it will do nothing because you can't loop over an iteratior more than once\n",
    "'''\n",
    "for row in reader:\n",
    "    print row\n",
    "''' \n",
    "\n",
    "\n",
    "f.close() #close file\n",
    "\n",
    "enrollments[0]"
   ]
  },
  {
   "cell_type": "code",
   "execution_count": 5,
   "metadata": {
    "collapsed": false
   },
   "outputs": [
    {
     "data": {
      "text/plain": [
       "{u'account_key': u'448',\n",
       " u'cancel_date': u'2015-01-14',\n",
       " u'days_to_cancel': u'65',\n",
       " u'is_canceled': u'True',\n",
       " u'is_udacity': u'True',\n",
       " u'join_date': u'2014-11-10',\n",
       " u'status': u'canceled'}"
      ]
     },
     "execution_count": 5,
     "metadata": {},
     "output_type": "execute_result"
    }
   ],
   "source": [
    "#code abave is a bit too long.  Could shorten as so:\n",
    "\n",
    "with open('enrollments.csv','rb') as f:\n",
    "    reader = unicodecsv.DictReader(f) #use dictionary reader on file f\n",
    "\n",
    "    enrollments = list(reader) #creates list from iterator without for loop\n",
    "        #notice you don't have to declare enrollments above also\n",
    "    \n",
    "    #file auto closes\n",
    "\n",
    "enrollments[0]"
   ]
  },
  {
   "cell_type": "code",
   "execution_count": null,
   "metadata": {
    "collapsed": true
   },
   "outputs": [],
   "source": []
  }
 ],
 "metadata": {
  "kernelspec": {
   "display_name": "Python [Root]",
   "language": "python",
   "name": "Python [Root]"
  },
  "language_info": {
   "codemirror_mode": {
    "name": "ipython",
    "version": 2
   },
   "file_extension": ".py",
   "mimetype": "text/x-python",
   "name": "python",
   "nbconvert_exporter": "python",
   "pygments_lexer": "ipython2",
   "version": "2.7.11"
  }
 },
 "nbformat": 4,
 "nbformat_minor": 0
}
